{
 "cells": [
  {
   "cell_type": "code",
   "execution_count": 4,
   "id": "1546df9d-4add-4f06-8c4f-a543e30b056a",
   "metadata": {},
   "outputs": [
    {
     "name": "stdout",
     "output_type": "stream",
     "text": [
      "Best parameters for Random Forest with StandardScaler: {'model__max_depth': None, 'model__n_estimators': 50}\n",
      "Train set score for Random Forest with StandardScaler: 0.9561\n",
      "Test set score for Random Forest with StandardScaler: 0.9474\n",
      "\n",
      "Best parameters for Random Forest with MinMaxScaler: {'model__max_depth': None, 'model__n_estimators': 50}\n",
      "Train set score for Random Forest with MinMaxScaler: 0.9561\n",
      "Test set score for Random Forest with MinMaxScaler: 0.9474\n",
      "\n",
      "Best parameters for SVM with StandardScaler: {'model__C': 1, 'model__kernel': 'linear'}\n",
      "Train set score for SVM with StandardScaler: 0.9826\n",
      "Test set score for SVM with StandardScaler: 0.9474\n",
      "\n",
      "Best parameters for SVM with MinMaxScaler: {'model__C': 1, 'model__kernel': 'linear'}\n",
      "Train set score for SVM with MinMaxScaler: 0.9735\n",
      "Test set score for SVM with MinMaxScaler: 0.9737\n",
      "\n",
      "Best parameters for Gradient Boosting with StandardScaler: {'model__learning_rate': 0.01, 'model__n_estimators': 200}\n",
      "Train set score for Gradient Boosting with StandardScaler: 0.9561\n",
      "Test set score for Gradient Boosting with StandardScaler: 0.9474\n",
      "\n",
      "Best parameters for Gradient Boosting with MinMaxScaler: {'model__learning_rate': 0.01, 'model__n_estimators': 200}\n",
      "Train set score for Gradient Boosting with MinMaxScaler: 0.9561\n",
      "Test set score for Gradient Boosting with MinMaxScaler: 0.9474\n",
      "\n",
      "Best performing model: SVC\n",
      "Best Model's Score on the test set: 0.9737\n"
     ]
    }
   ],
   "source": [
    "import numpy as np\n",
    "import pandas as pd\n",
    "from sklearn.datasets import load_iris\n",
    "from sklearn.model_selection import train_test_split, GridSearchCV\n",
    "from sklearn.preprocessing import StandardScaler, MinMaxScaler\n",
    "from sklearn.ensemble import RandomForestClassifier, GradientBoostingClassifier\n",
    "from sklearn.svm import SVC\n",
    "from sklearn.metrics import accuracy_score, make_scorer\n",
    "from sklearn.pipeline import Pipeline, make_pipeline\n",
    "\n",
    "# Convert the iris dataset to a pandas dataframe\n",
    "# https://ocw.mit.edu/courses/15-097-prediction-machine-learning-and-statistics-spring-2012/resources/iris/\n",
    "iris_df = pd.read_csv('./iris.csv', header = None, names = ['1','2','3', '4', 'Species'])\n",
    "\n",
    "# How to make a dataframe into a numpy array, which sklearn needs\n",
    "X = iris_df.loc[:, iris_df.columns != 'Species'].to_numpy()\n",
    "y = iris_df['Species'].to_numpy()\n",
    "\n",
    "# Split the data into training and test sets, could run twice for a validation set\n",
    "X_train, X_test, y_train, y_test = train_test_split(X, y, test_size=1/4, random_state=2030, stratify = y)\n",
    "\n",
    "# Define the models\n",
    "models = {\n",
    "    'Random Forest':     RandomForestClassifier(),\n",
    "    'SVM':               SVC(),\n",
    "    'Gradient Boosting': GradientBoostingClassifier()\n",
    "}\n",
    "\n",
    "# Define the scalers\n",
    "scalers = {\n",
    "    'StandardScaler': StandardScaler(), # Scales to have mean 0 and stdev 1\n",
    "    'MinMaxScaler':   MinMaxScaler() # Scales into fixed range of (0,1)\n",
    "}\n",
    "\n",
    "# Define hyperparameter grids for each model\n",
    "param_grids = {\n",
    "    'Random Forest':     {'model__n_estimators': [50, 100, 200], 'model__max_depth': [None, 10, 20]},\n",
    "    'SVM':               {'model__C': [0.1, 1, 10], 'model__kernel': ['linear', 'rbf']},\n",
    "    'Gradient Boosting': {'model__n_estimators': [50, 100, 200], 'model__learning_rate': [0.01, 0.1, 0.2]}\n",
    "}\n",
    "\n",
    "best_score = 0\n",
    "best_model = None\n",
    "for model_name, model in models.items():\n",
    "    for scaler_name, scaler in scalers.items():\n",
    "        pipeline = Pipeline([\n",
    "            ('scaler', scaler),\n",
    "            ('model', model)\n",
    "        ])\n",
    "        grid_search = GridSearchCV(estimator=pipeline, param_grid=param_grids[model_name], cv=10, scoring=make_scorer(accuracy_score))\n",
    "        grid_search.fit(X_train, y_train)\n",
    "        \n",
    "        # Evaluate the model on the train set\n",
    "        y_pred = grid_search.predict(X_test)\n",
    "        test_score = accuracy_score(y_test, y_pred)\n",
    "\n",
    "        # Print results of grid parameter search\n",
    "        print(f\"Best parameters for {model_name} with {scaler_name}: {grid_search.best_params_}\")\n",
    "        print(f\"Train set score for {model_name} with {scaler_name}: {grid_search.best_score_:.4f}\")\n",
    "        print(f\"Test set score for {model_name} with {scaler_name}: {test_score:.4f}\\n\")\n",
    "        \n",
    "        # Update best model if necessary\n",
    "        if test_score > best_score:\n",
    "            best_score = test_score\n",
    "            best_model = grid_search.best_estimator_\n",
    "\n",
    "print(f\"Best performing model: {best_model.named_steps['model'].__class__.__name__}\")\n",
    "print(f\"Best Model's Score on the test set: {best_score:.4f}\")"
   ]
  },
  {
   "cell_type": "code",
   "execution_count": 17,
   "id": "b28ee7fe-db7c-4709-9591-23e71a338ad0",
   "metadata": {},
   "outputs": [
    {
     "data": {
      "text/html": [
       "<style>#sk-container-id-2 {color: black;background-color: white;}#sk-container-id-2 pre{padding: 0;}#sk-container-id-2 div.sk-toggleable {background-color: white;}#sk-container-id-2 label.sk-toggleable__label {cursor: pointer;display: block;width: 100%;margin-bottom: 0;padding: 0.3em;box-sizing: border-box;text-align: center;}#sk-container-id-2 label.sk-toggleable__label-arrow:before {content: \"▸\";float: left;margin-right: 0.25em;color: #696969;}#sk-container-id-2 label.sk-toggleable__label-arrow:hover:before {color: black;}#sk-container-id-2 div.sk-estimator:hover label.sk-toggleable__label-arrow:before {color: black;}#sk-container-id-2 div.sk-toggleable__content {max-height: 0;max-width: 0;overflow: hidden;text-align: left;background-color: #f0f8ff;}#sk-container-id-2 div.sk-toggleable__content pre {margin: 0.2em;color: black;border-radius: 0.25em;background-color: #f0f8ff;}#sk-container-id-2 input.sk-toggleable__control:checked~div.sk-toggleable__content {max-height: 200px;max-width: 100%;overflow: auto;}#sk-container-id-2 input.sk-toggleable__control:checked~label.sk-toggleable__label-arrow:before {content: \"▾\";}#sk-container-id-2 div.sk-estimator input.sk-toggleable__control:checked~label.sk-toggleable__label {background-color: #d4ebff;}#sk-container-id-2 div.sk-label input.sk-toggleable__control:checked~label.sk-toggleable__label {background-color: #d4ebff;}#sk-container-id-2 input.sk-hidden--visually {border: 0;clip: rect(1px 1px 1px 1px);clip: rect(1px, 1px, 1px, 1px);height: 1px;margin: -1px;overflow: hidden;padding: 0;position: absolute;width: 1px;}#sk-container-id-2 div.sk-estimator {font-family: monospace;background-color: #f0f8ff;border: 1px dotted black;border-radius: 0.25em;box-sizing: border-box;margin-bottom: 0.5em;}#sk-container-id-2 div.sk-estimator:hover {background-color: #d4ebff;}#sk-container-id-2 div.sk-parallel-item::after {content: \"\";width: 100%;border-bottom: 1px solid gray;flex-grow: 1;}#sk-container-id-2 div.sk-label:hover label.sk-toggleable__label {background-color: #d4ebff;}#sk-container-id-2 div.sk-serial::before {content: \"\";position: absolute;border-left: 1px solid gray;box-sizing: border-box;top: 0;bottom: 0;left: 50%;z-index: 0;}#sk-container-id-2 div.sk-serial {display: flex;flex-direction: column;align-items: center;background-color: white;padding-right: 0.2em;padding-left: 0.2em;position: relative;}#sk-container-id-2 div.sk-item {position: relative;z-index: 1;}#sk-container-id-2 div.sk-parallel {display: flex;align-items: stretch;justify-content: center;background-color: white;position: relative;}#sk-container-id-2 div.sk-item::before, #sk-container-id-2 div.sk-parallel-item::before {content: \"\";position: absolute;border-left: 1px solid gray;box-sizing: border-box;top: 0;bottom: 0;left: 50%;z-index: -1;}#sk-container-id-2 div.sk-parallel-item {display: flex;flex-direction: column;z-index: 1;position: relative;background-color: white;}#sk-container-id-2 div.sk-parallel-item:first-child::after {align-self: flex-end;width: 50%;}#sk-container-id-2 div.sk-parallel-item:last-child::after {align-self: flex-start;width: 50%;}#sk-container-id-2 div.sk-parallel-item:only-child::after {width: 0;}#sk-container-id-2 div.sk-dashed-wrapped {border: 1px dashed gray;margin: 0 0.4em 0.5em 0.4em;box-sizing: border-box;padding-bottom: 0.4em;background-color: white;}#sk-container-id-2 div.sk-label label {font-family: monospace;font-weight: bold;display: inline-block;line-height: 1.2em;}#sk-container-id-2 div.sk-label-container {text-align: center;}#sk-container-id-2 div.sk-container {/* jupyter's `normalize.less` sets `[hidden] { display: none; }` but bootstrap.min.css set `[hidden] { display: none !important; }` so we also need the `!important` here to be able to override the default hidden behavior on the sphinx rendered scikit-learn.org. See: https://github.com/scikit-learn/scikit-learn/issues/21755 */display: inline-block !important;position: relative;}#sk-container-id-2 div.sk-text-repr-fallback {display: none;}</style><div id=\"sk-container-id-2\" class=\"sk-top-container\"><div class=\"sk-text-repr-fallback\"><pre>Pipeline(steps=[(&#x27;scaler&#x27;, MinMaxScaler()),\n",
       "                (&#x27;model&#x27;, SVC(C=1, kernel=&#x27;linear&#x27;))])</pre><b>In a Jupyter environment, please rerun this cell to show the HTML representation or trust the notebook. <br />On GitHub, the HTML representation is unable to render, please try loading this page with nbviewer.org.</b></div><div class=\"sk-container\" hidden><div class=\"sk-item sk-dashed-wrapped\"><div class=\"sk-label-container\"><div class=\"sk-label sk-toggleable\"><input class=\"sk-toggleable__control sk-hidden--visually\" id=\"sk-estimator-id-4\" type=\"checkbox\" ><label for=\"sk-estimator-id-4\" class=\"sk-toggleable__label sk-toggleable__label-arrow\">Pipeline</label><div class=\"sk-toggleable__content\"><pre>Pipeline(steps=[(&#x27;scaler&#x27;, MinMaxScaler()),\n",
       "                (&#x27;model&#x27;, SVC(C=1, kernel=&#x27;linear&#x27;))])</pre></div></div></div><div class=\"sk-serial\"><div class=\"sk-item\"><div class=\"sk-estimator sk-toggleable\"><input class=\"sk-toggleable__control sk-hidden--visually\" id=\"sk-estimator-id-5\" type=\"checkbox\" ><label for=\"sk-estimator-id-5\" class=\"sk-toggleable__label sk-toggleable__label-arrow\">MinMaxScaler</label><div class=\"sk-toggleable__content\"><pre>MinMaxScaler()</pre></div></div></div><div class=\"sk-item\"><div class=\"sk-estimator sk-toggleable\"><input class=\"sk-toggleable__control sk-hidden--visually\" id=\"sk-estimator-id-6\" type=\"checkbox\" ><label for=\"sk-estimator-id-6\" class=\"sk-toggleable__label sk-toggleable__label-arrow\">SVC</label><div class=\"sk-toggleable__content\"><pre>SVC(C=1, kernel=&#x27;linear&#x27;)</pre></div></div></div></div></div></div></div>"
      ],
      "text/plain": [
       "Pipeline(steps=[('scaler', MinMaxScaler()),\n",
       "                ('model', SVC(C=1, kernel='linear'))])"
      ]
     },
     "execution_count": 17,
     "metadata": {},
     "output_type": "execute_result"
    }
   ],
   "source": [
    "# The best model\n",
    "best_model"
   ]
  },
  {
   "cell_type": "code",
   "execution_count": 16,
   "id": "fb3f552b-8dfc-4e8b-b699-b6a83efc28f9",
   "metadata": {},
   "outputs": [
    {
     "name": "stdout",
     "output_type": "stream",
     "text": [
      "        Predictions           Actual\n",
      "0   Iris-versicolor  Iris-versicolor\n",
      "1    Iris-virginica   Iris-virginica\n",
      "2    Iris-virginica   Iris-virginica\n",
      "3       Iris-setosa      Iris-setosa\n",
      "4    Iris-virginica   Iris-virginica\n",
      "5   Iris-versicolor  Iris-versicolor\n",
      "6       Iris-setosa      Iris-setosa\n",
      "7   Iris-versicolor  Iris-versicolor\n",
      "8    Iris-virginica  Iris-versicolor\n",
      "9       Iris-setosa      Iris-setosa\n",
      "10   Iris-virginica   Iris-virginica\n",
      "11   Iris-virginica   Iris-virginica\n",
      "12      Iris-setosa      Iris-setosa\n",
      "13  Iris-versicolor  Iris-versicolor\n",
      "14      Iris-setosa      Iris-setosa\n",
      "15      Iris-setosa      Iris-setosa\n",
      "16   Iris-virginica   Iris-virginica\n",
      "17  Iris-versicolor  Iris-versicolor\n",
      "18      Iris-setosa      Iris-setosa\n",
      "19   Iris-virginica   Iris-virginica\n",
      "20  Iris-versicolor  Iris-versicolor\n",
      "21      Iris-setosa      Iris-setosa\n",
      "22   Iris-virginica   Iris-virginica\n",
      "23   Iris-virginica   Iris-virginica\n",
      "24      Iris-setosa      Iris-setosa\n",
      "25   Iris-virginica   Iris-virginica\n",
      "26  Iris-versicolor  Iris-versicolor\n",
      "27      Iris-setosa      Iris-setosa\n",
      "28   Iris-virginica   Iris-virginica\n",
      "29  Iris-versicolor  Iris-versicolor\n",
      "30  Iris-versicolor  Iris-versicolor\n",
      "31  Iris-versicolor  Iris-versicolor\n",
      "32  Iris-versicolor  Iris-versicolor\n",
      "33      Iris-setosa      Iris-setosa\n",
      "34      Iris-setosa      Iris-setosa\n",
      "35   Iris-virginica   Iris-virginica\n",
      "36   Iris-virginica   Iris-virginica\n",
      "37  Iris-versicolor  Iris-versicolor\n"
     ]
    }
   ],
   "source": [
    "# Examine classificaiton\n",
    "df = pd.DataFrame(\n",
    "    {\n",
    "        'Predictions': best_model.predict(X_test),\n",
    "        'Actual': y_test\n",
    "    }\n",
    ")\n",
    "print(df)"
   ]
  },
  {
   "cell_type": "code",
   "execution_count": 13,
   "id": "ee49fc42-c633-4770-bd24-e1ff5e6ba9dd",
   "metadata": {},
   "outputs": [
    {
     "data": {
      "text/html": [
       "<div>\n",
       "<style scoped>\n",
       "    .dataframe tbody tr th:only-of-type {\n",
       "        vertical-align: middle;\n",
       "    }\n",
       "\n",
       "    .dataframe tbody tr th {\n",
       "        vertical-align: top;\n",
       "    }\n",
       "\n",
       "    .dataframe thead th {\n",
       "        text-align: right;\n",
       "    }\n",
       "</style>\n",
       "<table border=\"1\" class=\"dataframe\">\n",
       "  <thead>\n",
       "    <tr style=\"text-align: right;\">\n",
       "      <th></th>\n",
       "      <th>Predictions</th>\n",
       "      <th>Actual</th>\n",
       "    </tr>\n",
       "  </thead>\n",
       "  <tbody>\n",
       "    <tr>\n",
       "      <th>8</th>\n",
       "      <td>Iris-virginica</td>\n",
       "      <td>Iris-versicolor</td>\n",
       "    </tr>\n",
       "  </tbody>\n",
       "</table>\n",
       "</div>"
      ],
      "text/plain": [
       "      Predictions           Actual\n",
       "8  Iris-virginica  Iris-versicolor"
      ]
     },
     "execution_count": 13,
     "metadata": {},
     "output_type": "execute_result"
    }
   ],
   "source": [
    "# Wrong classification\n",
    "df[df['Predictions'] != df['Actual']]"
   ]
  },
  {
   "cell_type": "code",
   "execution_count": 18,
   "id": "34febaaa-3a7b-46ef-80ff-fa857246e0dd",
   "metadata": {},
   "outputs": [
    {
     "data": {
      "text/plain": [
       "(150, 5)"
      ]
     },
     "execution_count": 18,
     "metadata": {},
     "output_type": "execute_result"
    }
   ],
   "source": [
    "iris_df.shape"
   ]
  },
  {
   "cell_type": "code",
   "execution_count": null,
   "id": "10f78350-a975-46ad-af38-14590d633599",
   "metadata": {},
   "outputs": [],
   "source": []
  }
 ],
 "metadata": {
  "kernelspec": {
   "display_name": "Python 3 (ipykernel)",
   "language": "python",
   "name": "python3"
  },
  "language_info": {
   "codemirror_mode": {
    "name": "ipython",
    "version": 3
   },
   "file_extension": ".py",
   "mimetype": "text/x-python",
   "name": "python",
   "nbconvert_exporter": "python",
   "pygments_lexer": "ipython3",
   "version": "3.11.7"
  }
 },
 "nbformat": 4,
 "nbformat_minor": 5
}
